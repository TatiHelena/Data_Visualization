{
 "cells": [
  {
   "cell_type": "markdown",
   "id": "1c1a9a5e",
   "metadata": {},
   "source": [
    "### Import libraries to perform data analysis, manipulation and visualizations "
   ]
  },
  {
   "cell_type": "markdown",
   "id": "d5eed0c8",
   "metadata": {},
   "source": [
    "testing"
   ]
  },
  {
   "cell_type": "code",
   "execution_count": 1,
   "id": "bb1bd228",
   "metadata": {},
   "outputs": [],
   "source": [
    "\n",
    "import pandas as pd\n",
    "import numpy as np\n",
    "import seaborn as sns\n",
    "import matplotlib.pyplot as plt \n",
    "\n",
    "\n"
   ]
  },
  {
   "cell_type": "code",
   "execution_count": 2,
   "id": "39e07b34",
   "metadata": {},
   "outputs": [],
   "source": [
    "# reading the dataset \n",
    "df = pd.read_csv('vgsales.csv')"
   ]
  },
  {
   "cell_type": "code",
   "execution_count": 3,
   "id": "c7db956d",
   "metadata": {},
   "outputs": [
    {
     "data": {
      "text/html": [
       "<div>\n",
       "<style scoped>\n",
       "    .dataframe tbody tr th:only-of-type {\n",
       "        vertical-align: middle;\n",
       "    }\n",
       "\n",
       "    .dataframe tbody tr th {\n",
       "        vertical-align: top;\n",
       "    }\n",
       "\n",
       "    .dataframe thead th {\n",
       "        text-align: right;\n",
       "    }\n",
       "</style>\n",
       "<table border=\"1\" class=\"dataframe\">\n",
       "  <thead>\n",
       "    <tr style=\"text-align: right;\">\n",
       "      <th></th>\n",
       "      <th>Name</th>\n",
       "      <th>Platform</th>\n",
       "      <th>Year_of_Release</th>\n",
       "      <th>Genre</th>\n",
       "      <th>Publisher</th>\n",
       "      <th>NA_Sales</th>\n",
       "      <th>EU_Sales</th>\n",
       "      <th>JP_Sales</th>\n",
       "      <th>Other_Sales</th>\n",
       "      <th>Global_Sales</th>\n",
       "      <th>Critic_Score</th>\n",
       "      <th>Critic_Count</th>\n",
       "      <th>User_Score</th>\n",
       "      <th>User_Count</th>\n",
       "      <th>Developer</th>\n",
       "      <th>Rating</th>\n",
       "    </tr>\n",
       "  </thead>\n",
       "  <tbody>\n",
       "    <tr>\n",
       "      <th>0</th>\n",
       "      <td>Wii Sports</td>\n",
       "      <td>Wii</td>\n",
       "      <td>2006.0</td>\n",
       "      <td>Sports</td>\n",
       "      <td>Nintendo</td>\n",
       "      <td>41.36</td>\n",
       "      <td>28.96</td>\n",
       "      <td>3.77</td>\n",
       "      <td>8.45</td>\n",
       "      <td>82.53</td>\n",
       "      <td>76.0</td>\n",
       "      <td>51.0</td>\n",
       "      <td>8</td>\n",
       "      <td>322.0</td>\n",
       "      <td>Nintendo</td>\n",
       "      <td>E</td>\n",
       "    </tr>\n",
       "    <tr>\n",
       "      <th>1</th>\n",
       "      <td>Super Mario Bros.</td>\n",
       "      <td>NES</td>\n",
       "      <td>1985.0</td>\n",
       "      <td>Platform</td>\n",
       "      <td>Nintendo</td>\n",
       "      <td>29.08</td>\n",
       "      <td>3.58</td>\n",
       "      <td>6.81</td>\n",
       "      <td>0.77</td>\n",
       "      <td>40.24</td>\n",
       "      <td>NaN</td>\n",
       "      <td>NaN</td>\n",
       "      <td>NaN</td>\n",
       "      <td>NaN</td>\n",
       "      <td>NaN</td>\n",
       "      <td>NaN</td>\n",
       "    </tr>\n",
       "    <tr>\n",
       "      <th>2</th>\n",
       "      <td>Mario Kart Wii</td>\n",
       "      <td>Wii</td>\n",
       "      <td>2008.0</td>\n",
       "      <td>Racing</td>\n",
       "      <td>Nintendo</td>\n",
       "      <td>15.68</td>\n",
       "      <td>12.76</td>\n",
       "      <td>3.79</td>\n",
       "      <td>3.29</td>\n",
       "      <td>35.52</td>\n",
       "      <td>82.0</td>\n",
       "      <td>73.0</td>\n",
       "      <td>8.3</td>\n",
       "      <td>709.0</td>\n",
       "      <td>Nintendo</td>\n",
       "      <td>E</td>\n",
       "    </tr>\n",
       "    <tr>\n",
       "      <th>3</th>\n",
       "      <td>Wii Sports Resort</td>\n",
       "      <td>Wii</td>\n",
       "      <td>2009.0</td>\n",
       "      <td>Sports</td>\n",
       "      <td>Nintendo</td>\n",
       "      <td>15.61</td>\n",
       "      <td>10.93</td>\n",
       "      <td>3.28</td>\n",
       "      <td>2.95</td>\n",
       "      <td>32.77</td>\n",
       "      <td>80.0</td>\n",
       "      <td>73.0</td>\n",
       "      <td>8</td>\n",
       "      <td>192.0</td>\n",
       "      <td>Nintendo</td>\n",
       "      <td>E</td>\n",
       "    </tr>\n",
       "    <tr>\n",
       "      <th>4</th>\n",
       "      <td>Pokemon Red/Pokemon Blue</td>\n",
       "      <td>GB</td>\n",
       "      <td>1996.0</td>\n",
       "      <td>Role-Playing</td>\n",
       "      <td>Nintendo</td>\n",
       "      <td>11.27</td>\n",
       "      <td>8.89</td>\n",
       "      <td>10.22</td>\n",
       "      <td>1.00</td>\n",
       "      <td>31.37</td>\n",
       "      <td>NaN</td>\n",
       "      <td>NaN</td>\n",
       "      <td>NaN</td>\n",
       "      <td>NaN</td>\n",
       "      <td>NaN</td>\n",
       "      <td>NaN</td>\n",
       "    </tr>\n",
       "  </tbody>\n",
       "</table>\n",
       "</div>"
      ],
      "text/plain": [
       "                       Name Platform  Year_of_Release         Genre Publisher  \\\n",
       "0                Wii Sports      Wii           2006.0        Sports  Nintendo   \n",
       "1         Super Mario Bros.      NES           1985.0      Platform  Nintendo   \n",
       "2            Mario Kart Wii      Wii           2008.0        Racing  Nintendo   \n",
       "3         Wii Sports Resort      Wii           2009.0        Sports  Nintendo   \n",
       "4  Pokemon Red/Pokemon Blue       GB           1996.0  Role-Playing  Nintendo   \n",
       "\n",
       "   NA_Sales  EU_Sales  JP_Sales  Other_Sales  Global_Sales  Critic_Score  \\\n",
       "0     41.36     28.96      3.77         8.45         82.53          76.0   \n",
       "1     29.08      3.58      6.81         0.77         40.24           NaN   \n",
       "2     15.68     12.76      3.79         3.29         35.52          82.0   \n",
       "3     15.61     10.93      3.28         2.95         32.77          80.0   \n",
       "4     11.27      8.89     10.22         1.00         31.37           NaN   \n",
       "\n",
       "   Critic_Count User_Score  User_Count Developer Rating  \n",
       "0          51.0          8       322.0  Nintendo      E  \n",
       "1           NaN        NaN         NaN       NaN    NaN  \n",
       "2          73.0        8.3       709.0  Nintendo      E  \n",
       "3          73.0          8       192.0  Nintendo      E  \n",
       "4           NaN        NaN         NaN       NaN    NaN  "
      ]
     },
     "execution_count": 3,
     "metadata": {},
     "output_type": "execute_result"
    }
   ],
   "source": [
    "df.head()"
   ]
  },
  {
   "cell_type": "markdown",
   "id": "ebf2122f",
   "metadata": {},
   "source": [
    "## Dataset information\n",
    "\n",
    "The dataset has the amount of 16719 rows and 16 columns in which 9 columns has been identified as dtype:float64 and 7 out of 16 has been identified as object.\n",
    "It also can be seen that some columns has missing values. \n",
    "    "
   ]
  },
  {
   "cell_type": "code",
   "execution_count": 4,
   "id": "f37d6ed5",
   "metadata": {},
   "outputs": [
    {
     "name": "stdout",
     "output_type": "stream",
     "text": [
      "<class 'pandas.core.frame.DataFrame'>\n",
      "RangeIndex: 16719 entries, 0 to 16718\n",
      "Data columns (total 16 columns):\n",
      " #   Column           Non-Null Count  Dtype  \n",
      "---  ------           --------------  -----  \n",
      " 0   Name             16717 non-null  object \n",
      " 1   Platform         16719 non-null  object \n",
      " 2   Year_of_Release  16450 non-null  float64\n",
      " 3   Genre            16717 non-null  object \n",
      " 4   Publisher        16665 non-null  object \n",
      " 5   NA_Sales         16719 non-null  float64\n",
      " 6   EU_Sales         16719 non-null  float64\n",
      " 7   JP_Sales         16719 non-null  float64\n",
      " 8   Other_Sales      16719 non-null  float64\n",
      " 9   Global_Sales     16719 non-null  float64\n",
      " 10  Critic_Score     8137 non-null   float64\n",
      " 11  Critic_Count     8137 non-null   float64\n",
      " 12  User_Score       10015 non-null  object \n",
      " 13  User_Count       7590 non-null   float64\n",
      " 14  Developer        10096 non-null  object \n",
      " 15  Rating           9950 non-null   object \n",
      "dtypes: float64(9), object(7)\n",
      "memory usage: 2.0+ MB\n"
     ]
    }
   ],
   "source": [
    "df.info()"
   ]
  },
  {
   "cell_type": "markdown",
   "id": "e0ac5abf",
   "metadata": {},
   "source": [
    "## Missing values isnull() funcion \n",
    "\n",
    "It has been observed the following missing values in the features below: \n",
    "    \n",
    "Name - 2\n",
    "\n",
    "Year_of_Release - 269\n",
    "\n",
    "Genre - 2\n",
    "\n",
    "Publisher - 54\n",
    "\n",
    "Critic_Score - 8582\n",
    "\n",
    "Critic_Count - 8582\n",
    "\n",
    "User_Score - 6704\n",
    "\n",
    "User_Count - 9129\n",
    "\n",
    "Developer - 6623\n",
    "\n",
    "Rating - 6769\n"
   ]
  },
  {
   "cell_type": "code",
   "execution_count": 5,
   "id": "b1f8bf9e",
   "metadata": {},
   "outputs": [
    {
     "data": {
      "text/plain": [
       "Name                  2\n",
       "Platform              0\n",
       "Year_of_Release     269\n",
       "Genre                 2\n",
       "Publisher            54\n",
       "NA_Sales              0\n",
       "EU_Sales              0\n",
       "JP_Sales              0\n",
       "Other_Sales           0\n",
       "Global_Sales          0\n",
       "Critic_Score       8582\n",
       "Critic_Count       8582\n",
       "User_Score         6704\n",
       "User_Count         9129\n",
       "Developer          6623\n",
       "Rating             6769\n",
       "dtype: int64"
      ]
     },
     "execution_count": 5,
     "metadata": {},
     "output_type": "execute_result"
    }
   ],
   "source": [
    "#Identifying missing values \n",
    "df.isnull().sum()"
   ]
  },
  {
   "cell_type": "code",
   "execution_count": 6,
   "id": "fce2cab4",
   "metadata": {},
   "outputs": [
    {
     "data": {
      "text/plain": [
       "Name                  0\n",
       "Platform              0\n",
       "Year_of_Release       0\n",
       "Genre                 0\n",
       "Publisher             0\n",
       "NA_Sales              0\n",
       "EU_Sales              0\n",
       "JP_Sales              0\n",
       "Other_Sales           0\n",
       "Global_Sales          0\n",
       "Critic_Score       8434\n",
       "Critic_Count       8434\n",
       "User_Score         6579\n",
       "User_Count         8955\n",
       "Developer          6512\n",
       "Rating             6649\n",
       "dtype: int64"
      ]
     },
     "execution_count": 6,
     "metadata": {},
     "output_type": "execute_result"
    }
   ],
   "source": [
    "# Drop missing values in following columns: \n",
    "df2 = df.dropna(subset=['Name', 'Year_of_Release', 'Genre', 'Publisher'])\n",
    "df2.isnull().sum()"
   ]
  },
  {
   "cell_type": "code",
   "execution_count": 7,
   "id": "924f366b",
   "metadata": {},
   "outputs": [
    {
     "data": {
      "text/plain": [
       "array([76., nan, 82., 80., 89., 58., 87., 91., 61., 97., 95., 77., 88.,\n",
       "       83., 94., 93., 85., 86., 98., 96., 90., 84., 73., 74., 78., 92.,\n",
       "       71., 72., 68., 62., 49., 67., 81., 66., 56., 79., 70., 59., 64.,\n",
       "       75., 60., 63., 69., 50., 25., 42., 44., 55., 48., 57., 29., 47.,\n",
       "       65., 54., 20., 53., 37., 38., 33., 52., 30., 32., 43., 45., 51.,\n",
       "       40., 46., 39., 34., 41., 36., 31., 27., 35., 26., 19., 28., 23.,\n",
       "       24., 21., 17., 13.])"
      ]
     },
     "execution_count": 7,
     "metadata": {},
     "output_type": "execute_result"
    }
   ],
   "source": [
    "df2['Critic_Score'].unique()"
   ]
  },
  {
   "cell_type": "code",
   "execution_count": 8,
   "id": "6f27c014",
   "metadata": {},
   "outputs": [
    {
     "data": {
      "text/plain": [
       "<Axes: xlabel='Critic_Score', ylabel='Count'>"
      ]
     },
     "execution_count": 8,
     "metadata": {},
     "output_type": "execute_result"
    },
    {
     "data": {
      "image/png": "[encoded data removed]",
      "text/plain": [
       "<Figure size 640x480 with 1 Axes>"
      ]
     },
     "metadata": {},
     "output_type": "display_data"
    }
   ],
   "source": [
    "sns.histplot(df2.Critic_Score, kde=False)"
   ]
  },
  {
   "cell_type": "code",
   "execution_count": 9,
   "id": "57658ddf",
   "metadata": {},
   "outputs": [
    {
     "data": {
      "text/html": [
       "<div>\n",
       "<style scoped>\n",
       "    .dataframe tbody tr th:only-of-type {\n",
       "        vertical-align: middle;\n",
       "    }\n",
       "\n",
       "    .dataframe tbody tr th {\n",
       "        vertical-align: top;\n",
       "    }\n",
       "\n",
       "    .dataframe thead th {\n",
       "        text-align: right;\n",
       "    }\n",
       "</style>\n",
       "<table border=\"1\" class=\"dataframe\">\n",
       "  <thead>\n",
       "    <tr style=\"text-align: right;\">\n",
       "      <th></th>\n",
       "      <th>Name</th>\n",
       "      <th>Platform</th>\n",
       "      <th>Year_of_Release</th>\n",
       "      <th>Genre</th>\n",
       "      <th>Publisher</th>\n",
       "      <th>NA_Sales</th>\n",
       "      <th>EU_Sales</th>\n",
       "      <th>JP_Sales</th>\n",
       "      <th>Other_Sales</th>\n",
       "      <th>Global_Sales</th>\n",
       "      <th>Critic_Score</th>\n",
       "      <th>Critic_Count</th>\n",
       "      <th>User_Score</th>\n",
       "      <th>User_Count</th>\n",
       "      <th>Developer</th>\n",
       "      <th>Rating</th>\n",
       "    </tr>\n",
       "  </thead>\n",
       "  <tbody>\n",
       "    <tr>\n",
       "      <th>0</th>\n",
       "      <td>Wii Sports</td>\n",
       "      <td>Wii</td>\n",
       "      <td>2006.0</td>\n",
       "      <td>Sports</td>\n",
       "      <td>Nintendo</td>\n",
       "      <td>41.36</td>\n",
       "      <td>28.96</td>\n",
       "      <td>3.77</td>\n",
       "      <td>8.45</td>\n",
       "      <td>82.53</td>\n",
       "      <td>76.000000</td>\n",
       "      <td>51.000000</td>\n",
       "      <td>8</td>\n",
       "      <td>322.000000</td>\n",
       "      <td>Nintendo</td>\n",
       "      <td>E</td>\n",
       "    </tr>\n",
       "    <tr>\n",
       "      <th>1</th>\n",
       "      <td>Super Mario Bros.</td>\n",
       "      <td>NES</td>\n",
       "      <td>1985.0</td>\n",
       "      <td>Platform</td>\n",
       "      <td>Nintendo</td>\n",
       "      <td>29.08</td>\n",
       "      <td>3.58</td>\n",
       "      <td>6.81</td>\n",
       "      <td>0.77</td>\n",
       "      <td>40.24</td>\n",
       "      <td>68.997119</td>\n",
       "      <td>68.997119</td>\n",
       "      <td>68.997119</td>\n",
       "      <td>68.997119</td>\n",
       "      <td>68.997119</td>\n",
       "      <td>68.997119</td>\n",
       "    </tr>\n",
       "    <tr>\n",
       "      <th>2</th>\n",
       "      <td>Mario Kart Wii</td>\n",
       "      <td>Wii</td>\n",
       "      <td>2008.0</td>\n",
       "      <td>Racing</td>\n",
       "      <td>Nintendo</td>\n",
       "      <td>15.68</td>\n",
       "      <td>12.76</td>\n",
       "      <td>3.79</td>\n",
       "      <td>3.29</td>\n",
       "      <td>35.52</td>\n",
       "      <td>82.000000</td>\n",
       "      <td>73.000000</td>\n",
       "      <td>8.3</td>\n",
       "      <td>709.000000</td>\n",
       "      <td>Nintendo</td>\n",
       "      <td>E</td>\n",
       "    </tr>\n",
       "    <tr>\n",
       "      <th>3</th>\n",
       "      <td>Wii Sports Resort</td>\n",
       "      <td>Wii</td>\n",
       "      <td>2009.0</td>\n",
       "      <td>Sports</td>\n",
       "      <td>Nintendo</td>\n",
       "      <td>15.61</td>\n",
       "      <td>10.93</td>\n",
       "      <td>3.28</td>\n",
       "      <td>2.95</td>\n",
       "      <td>32.77</td>\n",
       "      <td>80.000000</td>\n",
       "      <td>73.000000</td>\n",
       "      <td>8</td>\n",
       "      <td>192.000000</td>\n",
       "      <td>Nintendo</td>\n",
       "      <td>E</td>\n",
       "    </tr>\n",
       "    <tr>\n",
       "      <th>4</th>\n",
       "      <td>Pokemon Red/Pokemon Blue</td>\n",
       "      <td>GB</td>\n",
       "      <td>1996.0</td>\n",
       "      <td>Role-Playing</td>\n",
       "      <td>Nintendo</td>\n",
       "      <td>11.27</td>\n",
       "      <td>8.89</td>\n",
       "      <td>10.22</td>\n",
       "      <td>1.00</td>\n",
       "      <td>31.37</td>\n",
       "      <td>68.997119</td>\n",
       "      <td>68.997119</td>\n",
       "      <td>68.997119</td>\n",
       "      <td>68.997119</td>\n",
       "      <td>68.997119</td>\n",
       "      <td>68.997119</td>\n",
       "    </tr>\n",
       "  </tbody>\n",
       "</table>\n",
       "</div>"
      ],
      "text/plain": [
       "                       Name Platform  Year_of_Release         Genre Publisher  \\\n",
       "0                Wii Sports      Wii           2006.0        Sports  Nintendo   \n",
       "1         Super Mario Bros.      NES           1985.0      Platform  Nintendo   \n",
       "2            Mario Kart Wii      Wii           2008.0        Racing  Nintendo   \n",
       "3         Wii Sports Resort      Wii           2009.0        Sports  Nintendo   \n",
       "4  Pokemon Red/Pokemon Blue       GB           1996.0  Role-Playing  Nintendo   \n",
       "\n",
       "   NA_Sales  EU_Sales  JP_Sales  Other_Sales  Global_Sales  Critic_Score  \\\n",
       "0     41.36     28.96      3.77         8.45         82.53     76.000000   \n",
       "1     29.08      3.58      6.81         0.77         40.24     68.997119   \n",
       "2     15.68     12.76      3.79         3.29         35.52     82.000000   \n",
       "3     15.61     10.93      3.28         2.95         32.77     80.000000   \n",
       "4     11.27      8.89     10.22         1.00         31.37     68.997119   \n",
       "\n",
       "   Critic_Count User_Score  User_Count  Developer     Rating  \n",
       "0     51.000000          8  322.000000   Nintendo          E  \n",
       "1     68.997119  68.997119   68.997119  68.997119  68.997119  \n",
       "2     73.000000        8.3  709.000000   Nintendo          E  \n",
       "3     73.000000          8  192.000000   Nintendo          E  \n",
       "4     68.997119  68.997119   68.997119  68.997119  68.997119  "
      ]
     },
     "execution_count": 9,
     "metadata": {},
     "output_type": "execute_result"
    }
   ],
   "source": [
    "df_mean = df2.fillna(df2['Critic_Score'].mean())\n",
    "df_mean.head()"
   ]
  },
  {
   "cell_type": "code",
   "execution_count": 10,
   "id": "c12d4daa",
   "metadata": {},
   "outputs": [
    {
     "data": {
      "text/plain": [
       "<Axes: xlabel='Critic_Score', ylabel='Count'>"
      ]
     },
     "execution_count": 10,
     "metadata": {},
     "output_type": "execute_result"
    },
    {
     "data": {
      "image/png": "[encoded data removed]",
      "text/plain": [
       "<Figure size 640x480 with 1 Axes>"
      ]
     },
     "metadata": {},
     "output_type": "display_data"
    }
   ],
   "source": [
    "sns.histplot(df_mean.Critic_Score, kde=False, bins=40)"
   ]
  },
  {
   "cell_type": "code",
   "execution_count": 11,
   "id": "f062abf2",
   "metadata": {},
   "outputs": [
    {
     "data": {
      "text/html": [
       "<div>\n",
       "<style scoped>\n",
       "    .dataframe tbody tr th:only-of-type {\n",
       "        vertical-align: middle;\n",
       "    }\n",
       "\n",
       "    .dataframe tbody tr th {\n",
       "        vertical-align: top;\n",
       "    }\n",
       "\n",
       "    .dataframe thead th {\n",
       "        text-align: right;\n",
       "    }\n",
       "</style>\n",
       "<table border=\"1\" class=\"dataframe\">\n",
       "  <thead>\n",
       "    <tr style=\"text-align: right;\">\n",
       "      <th></th>\n",
       "      <th>Name</th>\n",
       "      <th>Platform</th>\n",
       "      <th>Year_of_Release</th>\n",
       "      <th>Genre</th>\n",
       "      <th>Publisher</th>\n",
       "      <th>NA_Sales</th>\n",
       "      <th>EU_Sales</th>\n",
       "      <th>JP_Sales</th>\n",
       "      <th>Other_Sales</th>\n",
       "      <th>Global_Sales</th>\n",
       "      <th>Critic_Score</th>\n",
       "      <th>Critic_Count</th>\n",
       "      <th>User_Score</th>\n",
       "      <th>User_Count</th>\n",
       "      <th>Developer</th>\n",
       "      <th>Rating</th>\n",
       "    </tr>\n",
       "  </thead>\n",
       "  <tbody>\n",
       "    <tr>\n",
       "      <th>0</th>\n",
       "      <td>Wii Sports</td>\n",
       "      <td>Wii</td>\n",
       "      <td>2006.0</td>\n",
       "      <td>Sports</td>\n",
       "      <td>Nintendo</td>\n",
       "      <td>41.36</td>\n",
       "      <td>28.96</td>\n",
       "      <td>3.77</td>\n",
       "      <td>8.45</td>\n",
       "      <td>82.53</td>\n",
       "      <td>76.0</td>\n",
       "      <td>51.0</td>\n",
       "      <td>8</td>\n",
       "      <td>322.0</td>\n",
       "      <td>Nintendo</td>\n",
       "      <td>E</td>\n",
       "    </tr>\n",
       "    <tr>\n",
       "      <th>1</th>\n",
       "      <td>Super Mario Bros.</td>\n",
       "      <td>NES</td>\n",
       "      <td>1985.0</td>\n",
       "      <td>Platform</td>\n",
       "      <td>Nintendo</td>\n",
       "      <td>29.08</td>\n",
       "      <td>3.58</td>\n",
       "      <td>6.81</td>\n",
       "      <td>0.77</td>\n",
       "      <td>40.24</td>\n",
       "      <td>0.0</td>\n",
       "      <td>NaN</td>\n",
       "      <td>NaN</td>\n",
       "      <td>NaN</td>\n",
       "      <td>NaN</td>\n",
       "      <td>NaN</td>\n",
       "    </tr>\n",
       "    <tr>\n",
       "      <th>2</th>\n",
       "      <td>Mario Kart Wii</td>\n",
       "      <td>Wii</td>\n",
       "      <td>2008.0</td>\n",
       "      <td>Racing</td>\n",
       "      <td>Nintendo</td>\n",
       "      <td>15.68</td>\n",
       "      <td>12.76</td>\n",
       "      <td>3.79</td>\n",
       "      <td>3.29</td>\n",
       "      <td>35.52</td>\n",
       "      <td>82.0</td>\n",
       "      <td>73.0</td>\n",
       "      <td>8.3</td>\n",
       "      <td>709.0</td>\n",
       "      <td>Nintendo</td>\n",
       "      <td>E</td>\n",
       "    </tr>\n",
       "    <tr>\n",
       "      <th>3</th>\n",
       "      <td>Wii Sports Resort</td>\n",
       "      <td>Wii</td>\n",
       "      <td>2009.0</td>\n",
       "      <td>Sports</td>\n",
       "      <td>Nintendo</td>\n",
       "      <td>15.61</td>\n",
       "      <td>10.93</td>\n",
       "      <td>3.28</td>\n",
       "      <td>2.95</td>\n",
       "      <td>32.77</td>\n",
       "      <td>80.0</td>\n",
       "      <td>73.0</td>\n",
       "      <td>8</td>\n",
       "      <td>192.0</td>\n",
       "      <td>Nintendo</td>\n",
       "      <td>E</td>\n",
       "    </tr>\n",
       "    <tr>\n",
       "      <th>4</th>\n",
       "      <td>Pokemon Red/Pokemon Blue</td>\n",
       "      <td>GB</td>\n",
       "      <td>1996.0</td>\n",
       "      <td>Role-Playing</td>\n",
       "      <td>Nintendo</td>\n",
       "      <td>11.27</td>\n",
       "      <td>8.89</td>\n",
       "      <td>10.22</td>\n",
       "      <td>1.00</td>\n",
       "      <td>31.37</td>\n",
       "      <td>0.0</td>\n",
       "      <td>NaN</td>\n",
       "      <td>NaN</td>\n",
       "      <td>NaN</td>\n",
       "      <td>NaN</td>\n",
       "      <td>NaN</td>\n",
       "    </tr>\n",
       "  </tbody>\n",
       "</table>\n",
       "</div>"
      ],
      "text/plain": [
       "                       Name Platform  Year_of_Release         Genre Publisher  \\\n",
       "0                Wii Sports      Wii           2006.0        Sports  Nintendo   \n",
       "1         Super Mario Bros.      NES           1985.0      Platform  Nintendo   \n",
       "2            Mario Kart Wii      Wii           2008.0        Racing  Nintendo   \n",
       "3         Wii Sports Resort      Wii           2009.0        Sports  Nintendo   \n",
       "4  Pokemon Red/Pokemon Blue       GB           1996.0  Role-Playing  Nintendo   \n",
       "\n",
       "   NA_Sales  EU_Sales  JP_Sales  Other_Sales  Global_Sales  Critic_Score  \\\n",
       "0     41.36     28.96      3.77         8.45         82.53          76.0   \n",
       "1     29.08      3.58      6.81         0.77         40.24           0.0   \n",
       "2     15.68     12.76      3.79         3.29         35.52          82.0   \n",
       "3     15.61     10.93      3.28         2.95         32.77          80.0   \n",
       "4     11.27      8.89     10.22         1.00         31.37           0.0   \n",
       "\n",
       "   Critic_Count User_Score  User_Count Developer Rating  \n",
       "0          51.0          8       322.0  Nintendo      E  \n",
       "1           NaN        NaN         NaN       NaN    NaN  \n",
       "2          73.0        8.3       709.0  Nintendo      E  \n",
       "3          73.0          8       192.0  Nintendo      E  \n",
       "4           NaN        NaN         NaN       NaN    NaN  "
      ]
     },
     "execution_count": 11,
     "metadata": {},
     "output_type": "execute_result"
    }
   ],
   "source": [
    "values = {'Critic_Score':0}\n",
    "df_fill = df2.fillna(value=values)\n",
    "df_fill.head()"
   ]
  },
  {
   "cell_type": "code",
   "execution_count": 12,
   "id": "3cf105a6",
   "metadata": {},
   "outputs": [
    {
     "data": {
      "text/plain": [
       "<Axes: xlabel='Critic_Score', ylabel='Count'>"
      ]
     },
     "execution_count": 12,
     "metadata": {},
     "output_type": "execute_result"
    },
    {
     "data": {
      "image/png": "[encoded data removed]",
      "text/plain": [
       "<Figure size 640x480 with 1 Axes>"
      ]
     },
     "metadata": {},
     "output_type": "display_data"
    }
   ],
   "source": [
    "sns.histplot(df_fill.Critic_Score, kde=False)"
   ]
  },
  {
   "cell_type": "code",
   "execution_count": 13,
   "id": "6b59fe56",
   "metadata": {},
   "outputs": [
    {
     "data": {
      "text/plain": [
       "array([ 51.,  nan,  73.,  65.,  41.,  80.,  64.,  63.,  45.,  33.,  50.,\n",
       "        58.,  62.,  37.,  54.,  81.,  89.,  21., 100.,  39.,  56.,  66.,\n",
       "        57.,  86.,  74.,  16.,  82.,  67.,  29.,  15.,  70.,  99.,  20.,\n",
       "        87.,  23.,  24.,  10.,  27.,  42.,  91.,  53.,  75.,  46.,  84.,\n",
       "        38.,  12.,  90.,  97.,  44., 105.,  77.,  68.,  28.,  94.,  96.,\n",
       "        61.,  22.,  88.,  47.,  98.,  85.,  13.,   8.,  95.,  17.,  35.,\n",
       "        19.,  48.,  14., 113.,  83.,  72.,  30.,  69.,  76.,  18.,  34.,\n",
       "        40., 101.,   9.,  32.,  78.,  36.,  25.,  59.,  31.,  79.,  26.,\n",
       "        49.,  60.,  11.,  43., 107.,   7.,  71.,  55.,  52.,  92.,   4.,\n",
       "        93.,   5.,   6., 103., 102., 106.,   3., 104.])"
      ]
     },
     "execution_count": 13,
     "metadata": {},
     "output_type": "execute_result"
    }
   ],
   "source": [
    "df2['Critic_Count'].unique()"
   ]
  },
  {
   "cell_type": "code",
   "execution_count": 14,
   "id": "3a20274d",
   "metadata": {},
   "outputs": [
    {
     "data": {
      "text/plain": [
       "<Axes: xlabel='Critic_Count', ylabel='Count'>"
      ]
     },
     "execution_count": 14,
     "metadata": {},
     "output_type": "execute_result"
    },
    {
     "data": {
      "image/png": "[encoded data removed]",
      "text/plain": [
       "<Figure size 640x480 with 1 Axes>"
      ]
     },
     "metadata": {},
     "output_type": "display_data"
    }
   ],
   "source": [
    "sns.histplot(df2.Critic_Count, kde=False)"
   ]
  },
  {
   "cell_type": "code",
   "execution_count": 15,
   "id": "18534d35",
   "metadata": {},
   "outputs": [
    {
     "data": {
      "text/plain": [
       "array(['8', nan, '8.3', '8.5', '6.6', '8.4', '8.6', '7.7', '6.3', '7.4',\n",
       "       '8.2', '9', '7.9', '8.1', '8.7', '7.1', '3.4', '5.3', '4.8', '3.2',\n",
       "       '8.9', '6.4', '7.8', '7.5', '2.6', '7.2', '9.2', '7', '7.3', '4.3',\n",
       "       '7.6', '5.7', '5', '9.1', '6.5', 'tbd', '8.8', '6.9', '9.4', '6.8',\n",
       "       '6.1', '6.7', '5.4', '4', '4.9', '4.5', '9.3', '6.2', '4.2', '6',\n",
       "       '3.7', '4.1', '5.8', '5.6', '5.5', '4.4', '4.6', '5.9', '3.9',\n",
       "       '3.1', '2.9', '5.2', '3.3', '4.7', '5.1', '3.5', '2.5', '1.9', '3',\n",
       "       '2.7', '2.2', '2', '9.5', '2.1', '3.6', '2.8', '1.8', '3.8', '0',\n",
       "       '1.6', '9.6', '2.4', '1.7', '1.1', '0.3', '1.5', '0.7', '1.2',\n",
       "       '2.3', '0.5', '1.3', '0.2', '0.6', '1.4', '0.9', '1', '9.7'],\n",
       "      dtype=object)"
      ]
     },
     "execution_count": 15,
     "metadata": {},
     "output_type": "execute_result"
    }
   ],
   "source": [
    "df2['User_Score'].unique()"
   ]
  },
  {
   "cell_type": "code",
   "execution_count": 16,
   "id": "c4508df2",
   "metadata": {},
   "outputs": [
    {
     "data": {
      "text/plain": [
       "<Axes: xlabel='User_Score', ylabel='Count'>"
      ]
     },
     "execution_count": 16,
     "metadata": {},
     "output_type": "execute_result"
    },
    {
     "data": {
      "image/png": "[encoded data removed]",
      "text/plain": [
       "<Figure size 640x480 with 1 Axes>"
      ]
     },
     "metadata": {},
     "output_type": "display_data"
    }
   ],
   "source": [
    "sns.histplot(df2.User_Score, kde=False)"
   ]
  },
  {
   "cell_type": "code",
   "execution_count": 17,
   "id": "245fc88b",
   "metadata": {},
   "outputs": [
    {
     "data": {
      "text/plain": [
       "array([3.2200e+02,        nan, 7.0900e+02, 1.9200e+02, 4.3100e+02,\n",
       "       1.2900e+02, 5.9400e+02, 4.6400e+02, 1.4600e+02, 1.0600e+02,\n",
       "       5.2000e+01, 3.9940e+03, 1.5880e+03, 5.0000e+01, 3.7110e+03,\n",
       "       7.3000e+02, 1.9000e+01, 3.1400e+02, 8.7130e+03, 1.4540e+03,\n",
       "       9.2200e+02, 2.2560e+03, 2.6980e+03, 5.2340e+03, 6.6400e+02,\n",
       "       1.6620e+03, 6.3200e+02, 1.0940e+03, 2.8990e+03, 2.4200e+02,\n",
       "       4.1000e+03, 2.7200e+02, 2.1470e+03, 2.9510e+03, 1.3800e+02,\n",
       "       9.2100e+02, 1.1120e+03, 2.0730e+03, 2.8330e+03, 2.1170e+03,\n",
       "       1.6000e+01, 4.2400e+02, 2.0450e+03, 1.2820e+03, 3.2600e+03,\n",
       "       1.3500e+02, 2.4000e+01, 1.0470e+03, 1.3200e+03, 6.2600e+02,\n",
       "       8.5000e+01, 3.5890e+03, 8.9600e+02, 1.2180e+03, 5.4000e+01,\n",
       "       1.9000e+02, 3.4800e+02, 1.0560e+03, 8.8600e+02, 6.4400e+02,\n",
       "       2.0300e+02, 4.5100e+02, 1.4430e+03, 3.9800e+02, 1.8540e+03,\n",
       "       5.8000e+02, 2.1420e+03, 1.7100e+02, 1.1000e+02, 1.7610e+03,\n",
       "       4.2280e+03, 3.6700e+02, 1.6580e+03, 4.3200e+02, 1.5990e+03,\n",
       "       5.6800e+02, 1.3200e+02, 2.8000e+01, 2.7390e+03, 3.7120e+03,\n",
       "       9.9300e+02, 5.1870e+03, 2.7000e+01, 2.4560e+03, 5.7600e+02,\n",
       "       1.3070e+03, 3.6800e+02, 1.2830e+03, 2.5270e+03, 2.2200e+02,\n",
       "       5.9700e+02, 1.1630e+03, 2.3160e+03, 4.3900e+02, 2.1820e+03,\n",
       "       7.8000e+01, 1.5040e+03, 9.5000e+01, 2.2950e+03, 9.8800e+02,\n",
       "       1.0260e+03, 9.1800e+02, 3.5580e+03, 9.7200e+02, 8.0030e+03,\n",
       "       5.3110e+03, 3.6400e+02, 1.9700e+02, 1.0200e+02, 5.3800e+03,\n",
       "       6.2000e+01, 2.1000e+01, 1.2020e+03, 1.0740e+03, 5.1600e+02,\n",
       "       4.1000e+01, 1.2400e+02, 2.1620e+03, 7.6400e+02, 1.0800e+02,\n",
       "       1.5600e+02, 4.0900e+02, 7.0640e+03, 2.4830e+03, 7.7900e+02,\n",
       "       1.1960e+03, 4.0000e+02, 8.9800e+02, 1.3050e+03, 7.3300e+02,\n",
       "       2.4500e+02, 1.4700e+02, 4.0300e+02, 9.6290e+03, 1.0000e+02,\n",
       "       1.1200e+02, 6.0400e+02, 6.6700e+02, 4.1600e+02, 2.3300e+02,\n",
       "       2.6600e+02, 1.5000e+02, 6.9000e+01, 4.6000e+01, 4.7000e+01,\n",
       "       1.6550e+03, 2.3060e+03, 1.2100e+02, 3.0520e+03, 7.6900e+02,\n",
       "       2.6330e+03, 9.2000e+01, 1.4720e+03, 2.9900e+02, 1.1900e+02,\n",
       "       1.2640e+03, 9.6800e+02, 8.7000e+01, 4.5800e+02, 6.1700e+02,\n",
       "       1.6500e+02, 3.9000e+01, 2.4380e+03, 1.1290e+03, 9.9700e+02,\n",
       "       1.1840e+03, 4.7100e+02, 2.9800e+02, 3.3000e+01, 1.1090e+03,\n",
       "       1.3700e+02, 3.1000e+01, 2.0700e+02, 7.1500e+02, 7.6600e+02,\n",
       "       1.6070e+03, 2.2100e+02, 1.0900e+02, 2.4230e+03, 6.0000e+00,\n",
       "       1.1220e+03, 9.5500e+02, 6.1300e+02, 1.7490e+03, 4.3500e+02,\n",
       "       2.2000e+01, 1.2000e+02, 5.6400e+02, 3.3000e+02, 6.5000e+01,\n",
       "       3.1610e+03, 7.8500e+02, 8.0900e+02, 2.3000e+01, 3.8100e+02,\n",
       "       4.4000e+01, 2.9960e+03, 1.1700e+02, 1.6530e+03, 6.8100e+02,\n",
       "       1.0179e+04, 2.0500e+03, 2.6790e+03, 1.9580e+03, 9.1000e+02,\n",
       "       7.2000e+01, 9.0730e+03, 2.2900e+02, 2.2000e+02, 3.8000e+01,\n",
       "       1.0400e+02, 1.5640e+03, 4.0000e+00, 2.2190e+03, 6.6000e+01,\n",
       "       2.9000e+01, 4.1700e+02, 8.4000e+02, 5.6000e+01, 1.2800e+02,\n",
       "       1.3000e+01, 8.2000e+01, 3.1200e+02, 1.0130e+03, 7.1000e+01,\n",
       "       1.4200e+02, 3.2000e+01, 1.6100e+02, 1.5800e+03, 2.6800e+02,\n",
       "       1.0000e+01, 9.0000e+00, 8.8000e+01, 4.8000e+01, 1.5500e+02,\n",
       "       1.3090e+03, 1.0050e+03, 5.2300e+02, 6.9300e+02, 5.7900e+02,\n",
       "       1.0800e+03, 5.4200e+02, 8.6900e+02, 1.2600e+02, 6.7000e+01,\n",
       "       3.9430e+03, 3.5000e+01, 6.5700e+02, 9.9000e+01, 1.3190e+03,\n",
       "       7.5000e+01, 1.7350e+03, 1.0410e+03, 2.2800e+02, 8.6000e+01,\n",
       "       7.0100e+02, 1.0500e+02, 5.6300e+02, 9.4000e+01, 1.1100e+02,\n",
       "       4.5900e+02, 1.1600e+02, 1.8000e+02, 7.5800e+02, 1.2670e+03,\n",
       "       6.9100e+02, 5.6500e+02, 4.6300e+02, 1.0100e+03, 3.6000e+01,\n",
       "       3.7000e+01, 1.0700e+02, 1.0100e+02, 6.3000e+01, 4.9200e+02,\n",
       "       1.0570e+03, 1.3040e+03, 3.1430e+03, 2.0570e+03, 8.9200e+02,\n",
       "       3.7250e+03, 2.7590e+03, 3.0700e+02, 6.1600e+02, 1.5050e+03,\n",
       "       1.2470e+03, 1.3100e+02, 1.7300e+02, 2.0000e+01, 4.6600e+02,\n",
       "       2.7480e+03, 1.8860e+03, 2.6580e+03, 5.7200e+02, 9.3000e+01,\n",
       "       2.9200e+02, 1.1720e+03, 7.6000e+01, 7.0000e+02, 1.6920e+03,\n",
       "       3.0000e+01, 4.5000e+01, 1.8000e+01, 1.7900e+02, 1.5000e+01,\n",
       "       1.5300e+03, 4.9400e+02, 9.0000e+01, 2.2490e+03, 7.4700e+02,\n",
       "       7.9100e+02, 8.0000e+00, 2.8600e+02, 7.0000e+00, 2.9440e+03,\n",
       "       2.4100e+02, 3.0100e+02, 4.9260e+03, 8.3600e+02, 9.4200e+02,\n",
       "       3.8900e+02, 4.9000e+02, 2.1100e+02, 1.7400e+02, 5.8000e+01,\n",
       "       8.9300e+02, 2.1020e+03, 2.7100e+02, 8.0000e+01, 2.0100e+02,\n",
       "       1.1300e+02, 7.0700e+02, 1.2700e+02, 8.4000e+01, 4.5400e+02,\n",
       "       1.3400e+02, 1.3300e+02, 2.8800e+02, 4.9000e+01, 5.2900e+02,\n",
       "       5.7000e+01, 1.1400e+02, 1.7000e+01, 8.3000e+01, 7.2500e+02,\n",
       "       8.9000e+01, 9.8000e+01, 1.2500e+02, 5.0000e+00, 9.6000e+01,\n",
       "       2.6000e+01, 6.3830e+03, 7.4000e+01, 3.8400e+02, 1.8890e+03,\n",
       "       2.9100e+02, 4.2000e+01, 3.4000e+01, 2.9000e+02, 1.7600e+02,\n",
       "       5.3000e+01, 4.8700e+02, 6.8000e+01, 6.2700e+02, 8.6650e+03,\n",
       "       5.5000e+01, 4.7800e+02, 1.8900e+02, 1.1500e+02, 5.1000e+01,\n",
       "       2.9540e+03, 3.8200e+02, 6.6800e+02, 4.0500e+02, 4.3000e+01,\n",
       "       6.3500e+02, 4.4000e+02, 3.0600e+02, 9.1400e+02, 3.5500e+02,\n",
       "       1.3900e+02, 1.3600e+02, 8.5800e+02, 2.0400e+02, 2.1900e+02,\n",
       "       4.8000e+02, 1.0950e+03, 2.0600e+02, 5.7300e+02, 3.1700e+02,\n",
       "       2.0800e+02, 3.4700e+02, 6.1400e+02, 5.3900e+02, 1.3580e+03,\n",
       "       5.1100e+02, 2.1200e+02, 8.4500e+02, 4.2700e+02, 1.2870e+03,\n",
       "       5.2000e+02, 9.5300e+02, 1.1000e+01, 1.4000e+01, 1.5710e+03,\n",
       "       4.4300e+02, 9.7000e+01, 1.3970e+03, 1.1300e+03, 1.8200e+02,\n",
       "       1.9840e+03, 5.4500e+02, 1.6200e+02, 1.6700e+02, 2.2500e+02,\n",
       "       5.9000e+01, 1.4070e+03, 1.1800e+02, 7.0000e+01, 4.5500e+02,\n",
       "       1.6470e+03, 1.0790e+03, 5.0400e+02, 5.5700e+02, 5.0600e+02,\n",
       "       6.8500e+02, 1.4500e+02, 9.1000e+01, 2.4800e+02, 2.9700e+02,\n",
       "       2.4600e+02, 7.9000e+02, 9.3200e+02, 1.2650e+03, 1.4410e+03,\n",
       "       7.9700e+02, 1.1470e+03, 1.7800e+02, 1.4800e+02, 8.6300e+02,\n",
       "       1.2230e+03, 4.9100e+02, 1.9800e+02, 7.3000e+01, 3.4000e+02,\n",
       "       3.8300e+02, 4.4400e+02, 3.1720e+03, 4.5300e+02, 5.7500e+02,\n",
       "       5.6640e+03, 8.1500e+02, 8.1000e+01, 9.3700e+02, 7.7000e+01,\n",
       "       5.0960e+03, 6.4000e+01, 1.8630e+03, 7.6700e+02, 2.2800e+03,\n",
       "       2.5000e+01, 2.0000e+02, 1.2000e+01, 1.3460e+03, 2.1610e+03,\n",
       "       3.2500e+02, 1.9400e+03, 5.4400e+02, 2.6520e+03, 4.0000e+01,\n",
       "       2.6200e+02, 4.4500e+02, 5.5900e+02, 2.6700e+02, 3.2600e+02,\n",
       "       8.5000e+02, 1.5700e+02, 2.5300e+02, 2.7900e+02, 3.1100e+02,\n",
       "       9.0800e+02, 7.1200e+02, 1.1160e+03, 7.1300e+02, 2.1500e+02,\n",
       "       7.7000e+02, 7.8100e+02, 1.6350e+03, 1.2200e+02, 6.7900e+02,\n",
       "       1.7200e+02, 9.8400e+02, 2.1600e+02, 6.9400e+02, 1.0300e+02,\n",
       "       5.4300e+02, 4.7900e+02, 3.3400e+02, 2.6400e+02, 2.6300e+02,\n",
       "       3.9900e+02, 1.0810e+03, 7.9000e+01, 4.9300e+02, 8.8100e+02,\n",
       "       1.8490e+03, 4.5720e+03, 5.3500e+02, 7.4600e+02, 2.5000e+02,\n",
       "       7.6800e+02, 9.7700e+02, 3.6200e+02, 1.4090e+03, 1.2880e+03,\n",
       "       6.8400e+02, 6.0000e+01, 6.8200e+02, 1.4000e+02, 1.6000e+02,\n",
       "       3.7100e+02, 5.8500e+02, 3.1800e+02, 3.5170e+03, 4.8200e+02,\n",
       "       5.3300e+02, 2.5200e+02, 1.8700e+02, 1.1560e+03, 2.8000e+02,\n",
       "       9.3000e+02, 3.5300e+02, 3.9630e+03, 3.5600e+02, 3.7600e+02,\n",
       "       4.0200e+02, 4.0600e+02, 3.8700e+02, 7.5120e+03, 3.5800e+02,\n",
       "       1.1070e+03, 1.3110e+03, 4.3300e+02, 3.3200e+02, 1.2300e+02,\n",
       "       1.6600e+02, 2.7800e+02, 2.2300e+02, 1.9400e+02, 3.0800e+02,\n",
       "       1.5200e+02, 6.6200e+02, 4.6800e+02, 6.1000e+01, 1.6400e+02,\n",
       "       1.8400e+02, 2.3700e+02, 1.3000e+02, 3.7700e+02, 3.9300e+02,\n",
       "       2.8200e+02, 3.7560e+03, 2.7540e+03, 1.7110e+03, 3.2800e+02,\n",
       "       2.3800e+02, 4.3700e+02, 2.3600e+03, 9.3300e+02, 1.1370e+03,\n",
       "       6.2100e+02, 7.9500e+02, 2.0900e+02, 1.2280e+03, 2.0200e+02,\n",
       "       2.3800e+03, 5.9800e+02, 2.8300e+02, 3.6300e+02, 2.9810e+03,\n",
       "       2.6500e+02, 5.5200e+02, 1.8800e+02, 1.5400e+02, 2.4700e+02,\n",
       "       6.3900e+02, 1.8300e+02, 2.1300e+02, 6.4500e+02, 1.6800e+02,\n",
       "       4.0400e+02, 3.2900e+02, 3.5520e+03, 3.0200e+02, 5.2500e+02,\n",
       "       2.7300e+02, 2.5500e+02, 2.9400e+02, 1.1060e+03, 3.3600e+02,\n",
       "       3.4500e+03, 1.8410e+03, 1.4400e+02, 5.9260e+03, 3.1830e+03,\n",
       "       8.9400e+02, 5.2200e+02, 4.3780e+03, 5.4000e+02, 3.0300e+02,\n",
       "       2.5400e+02, 2.3100e+02, 2.9300e+02, 7.0300e+02, 1.4890e+03,\n",
       "       2.4820e+03, 2.2400e+02, 9.5000e+02, 1.2210e+03, 1.8600e+02,\n",
       "       3.4400e+02, 8.1800e+02, 2.4210e+03, 6.4300e+03, 3.9700e+02,\n",
       "       2.2990e+03, 3.4500e+02, 4.4600e+02, 1.5900e+02, 1.4900e+02,\n",
       "       1.9300e+02, 4.2200e+02, 1.5480e+03, 4.5600e+02, 1.9100e+02,\n",
       "       1.1970e+03, 4.4200e+02, 6.3400e+02, 1.5800e+02, 5.1300e+02,\n",
       "       1.4710e+03, 3.2000e+02, 6.8000e+02, 4.4900e+02, 1.2170e+03,\n",
       "       5.9990e+03, 7.0400e+02, 9.0000e+02, 3.8600e+02, 9.1500e+02,\n",
       "       7.7100e+02, 1.5940e+03, 3.9260e+03, 3.7420e+03, 1.6900e+02,\n",
       "       2.0500e+02, 1.0665e+04, 1.4670e+03, 2.2350e+03, 1.9700e+03,\n",
       "       3.1500e+02, 3.7200e+02, 4.3800e+02, 1.7500e+02, 5.6100e+02,\n",
       "       2.3860e+03, 4.3000e+02, 5.1500e+02, 4.6500e+02, 7.3220e+03,\n",
       "       1.9900e+02, 1.4700e+03, 2.7500e+02, 5.6900e+02, 4.5330e+03,\n",
       "       1.0640e+03, 4.1000e+02, 2.9600e+02, 3.2700e+02, 3.6600e+02,\n",
       "       2.7400e+02, 2.5900e+02, 3.1600e+02, 3.0400e+02, 3.9100e+02,\n",
       "       2.9500e+02, 2.3600e+02, 1.1800e+03, 1.0930e+03, 1.1020e+03,\n",
       "       3.0690e+03, 1.8100e+02, 2.5100e+02, 3.1000e+02, 2.6100e+02,\n",
       "       2.4900e+02, 2.5800e+02, 1.7270e+03, 2.3200e+02, 6.2500e+02,\n",
       "       1.6590e+03, 2.8400e+02, 1.4630e+03, 1.6110e+03, 3.4300e+02,\n",
       "       3.5000e+02, 3.5100e+02, 1.4100e+02, 4.0520e+03, 8.3300e+02,\n",
       "       1.8470e+03, 2.3500e+02, 4.2500e+02, 2.2700e+02, 1.9600e+02,\n",
       "       3.5420e+03, 1.3450e+03, 2.6000e+02, 1.7700e+02, 1.1540e+03,\n",
       "       1.5020e+03, 2.2600e+02, 1.5100e+02, 3.2880e+03, 1.4380e+03,\n",
       "       2.2020e+03, 2.1700e+02, 2.4400e+02, 5.0800e+02, 3.1900e+02,\n",
       "       1.1880e+03, 3.6060e+03, 1.1360e+03, 1.1830e+03, 6.7200e+02,\n",
       "       4.9500e+02, 4.4100e+02, 1.2380e+03, 3.5590e+03, 5.1400e+02,\n",
       "       4.6100e+02, 1.6300e+02, 1.2630e+03, 5.1900e+02, 5.5600e+02,\n",
       "       1.6180e+03, 2.1000e+02, 1.2900e+03, 3.3800e+02, 1.0270e+03,\n",
       "       2.5300e+03, 1.6710e+03, 5.7800e+02, 2.5600e+02, 6.1570e+03,\n",
       "       2.1800e+02, 5.9900e+02, 1.6600e+03, 9.7400e+02, 2.6900e+02,\n",
       "       1.7360e+03, 5.5500e+02, 1.1700e+03, 1.5300e+02, 5.8700e+02,\n",
       "       1.0970e+03, 6.7600e+02, 1.4660e+03, 7.2100e+02, 3.4600e+02,\n",
       "       3.5900e+02, 1.7000e+02, 1.9500e+02, 2.4540e+03, 5.4600e+02,\n",
       "       9.0300e+02, 1.3270e+03, 5.3100e+02, 2.4300e+02, 7.3400e+02,\n",
       "       1.2370e+03, 7.5100e+02, 1.4280e+03, 1.5090e+03, 1.3810e+03,\n",
       "       6.6100e+02, 5.9600e+02, 1.2950e+03, 5.2800e+02, 9.8500e+02,\n",
       "       2.3000e+02, 8.0300e+02, 1.7390e+03, 2.6540e+03, 9.6900e+02,\n",
       "       7.5400e+02, 1.8500e+02, 1.5430e+03, 2.8900e+02, 1.3630e+03,\n",
       "       5.4700e+02, 2.3180e+03, 1.3260e+03, 9.0900e+02, 9.6500e+02,\n",
       "       4.2000e+02, 6.5300e+02, 6.0300e+02, 1.6130e+03, 5.8900e+02,\n",
       "       1.4040e+03, 1.4950e+03, 1.4970e+03, 4.4800e+02, 7.7300e+02,\n",
       "       7.2900e+02, 9.9200e+02, 1.0230e+03, 1.9670e+03, 4.1800e+02,\n",
       "       8.3800e+02, 1.2090e+03, 1.2730e+03, 5.2600e+02, 3.3700e+02,\n",
       "       8.6600e+02, 2.3900e+02, 1.0500e+03, 6.4800e+02, 8.0100e+02,\n",
       "       8.2200e+02, 4.8400e+02, 9.8510e+03, 2.4000e+02, 8.3700e+02,\n",
       "       4.8800e+02, 1.3400e+03, 1.9630e+03, 5.8600e+02, 4.0700e+02,\n",
       "       7.9400e+02, 1.8480e+03, 4.8900e+02, 1.4730e+03, 5.7100e+02,\n",
       "       6.0600e+02, 6.0200e+02, 1.0880e+03, 1.0070e+03, 3.7900e+02,\n",
       "       4.7500e+02, 8.9100e+02, 3.5200e+02, 8.1300e+02, 7.2400e+02,\n",
       "       1.1280e+03, 1.6200e+03, 8.6800e+02, 3.4900e+02, 3.4200e+02,\n",
       "       1.5200e+03, 4.9800e+02, 3.9600e+02, 3.8000e+02, 6.0700e+02,\n",
       "       5.4900e+02, 1.7960e+03, 5.8300e+02, 8.1900e+02, 3.4100e+02,\n",
       "       8.0200e+02, 2.5700e+02, 3.7400e+02, 3.7170e+03, 3.7500e+02,\n",
       "       2.8100e+02, 1.0160e+03, 2.1910e+03, 2.0890e+03, 5.3700e+02,\n",
       "       5.6700e+02, 8.0500e+02, 1.0690e+03, 4.1200e+02])"
      ]
     },
     "execution_count": 17,
     "metadata": {},
     "output_type": "execute_result"
    }
   ],
   "source": [
    "df2['User_Count'].unique()"
   ]
  },
  {
   "cell_type": "code",
   "execution_count": 18,
   "id": "0280531b",
   "metadata": {},
   "outputs": [
    {
     "data": {
      "text/plain": [
       "<Axes: xlabel='User_Count', ylabel='Count'>"
      ]
     },
     "execution_count": 18,
     "metadata": {},
     "output_type": "execute_result"
    },
    {
     "data": {
      "image/png": "[encoded data removed]",
      "text/plain": [
       "<Figure size 640x480 with 1 Axes>"
      ]
     },
     "metadata": {},
     "output_type": "display_data"
    }
   ],
   "source": [
    "sns.histplot(df2.User_Count, kde=False)"
   ]
  },
  {
   "cell_type": "code",
   "execution_count": 19,
   "id": "044dd110",
   "metadata": {},
   "outputs": [
    {
     "data": {
      "text/plain": [
       "array(['Nintendo', nan, 'Good Science Studio', ..., 'Big Red Software',\n",
       "       'Atomic Games', 'Interchannel-Holon'], dtype=object)"
      ]
     },
     "execution_count": 19,
     "metadata": {},
     "output_type": "execute_result"
    }
   ],
   "source": [
    "df2['Developer'].unique()"
   ]
  },
  {
   "cell_type": "code",
   "execution_count": 20,
   "id": "7a4912ae",
   "metadata": {},
   "outputs": [
    {
     "data": {
      "text/plain": [
       "<Axes: xlabel='Developer', ylabel='Count'>"
      ]
     },
     "execution_count": 20,
     "metadata": {},
     "output_type": "execute_result"
    },
    {
     "data": {
      "image/png": "[encoded data removed]",
      "text/plain": [
       "<Figure size 640x480 with 1 Axes>"
      ]
     },
     "metadata": {},
     "output_type": "display_data"
    }
   ],
   "source": [
    "sns.histplot(df2.Developer, kde=False)"
   ]
  },
  {
   "cell_type": "code",
   "execution_count": 21,
   "id": "89f65488",
   "metadata": {},
   "outputs": [
    {
     "data": {
      "text/plain": [
       "<Axes: xlabel='Rating', ylabel='Count'>"
      ]
     },
     "execution_count": 21,
     "metadata": {},
     "output_type": "execute_result"
    },
    {
     "data": {
      "image/png": "[encoded data removed]",
      "text/plain": [
       "<Figure size 640x480 with 1 Axes>"
      ]
     },
     "metadata": {},
     "output_type": "display_data"
    }
   ],
   "source": [
    "sns.histplot(df2.Rating, kde=False)"
   ]
  },
  {
   "cell_type": "code",
   "execution_count": 22,
   "id": "b092a6c3",
   "metadata": {},
   "outputs": [
    {
     "data": {
      "text/plain": [
       "<Axes: xlabel='Rating', ylabel='Count'>"
      ]
     },
     "execution_count": 22,
     "metadata": {},
     "output_type": "execute_result"
    },
    {
     "data": {
      "image/png": "[encoded data removed]",
      "text/plain": [
       "<Figure size 640x480 with 1 Axes>"
      ]
     },
     "metadata": {},
     "output_type": "display_data"
    }
   ],
   "source": [
    "sns.histplot(df2.Rating, kde=False)"
   ]
  },
  {
   "cell_type": "code",
   "execution_count": null,
   "id": "6f1c3595",
   "metadata": {},
   "outputs": [],
   "source": []
  }
 ],
 "metadata": {
  "kernelspec": {
   "display_name": "Python 3 (ipykernel)",
   "language": "python",
   "name": "python3"
  },
  "language_info": {
   "codemirror_mode": {
    "name": "ipython",
    "version": 3
   },
   "file_extension": ".py",
   "mimetype": "text/x-python",
   "name": "python",
   "nbconvert_exporter": "python",
   "pygments_lexer": "ipython3",
   "version": "3.11.4"
  }
 },
 "nbformat": 4,
 "nbformat_minor": 5
}
